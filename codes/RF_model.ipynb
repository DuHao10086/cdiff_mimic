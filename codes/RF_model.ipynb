{
 "cells": [
  {
   "cell_type": "code",
   "execution_count": 1,
   "metadata": {},
   "outputs": [
    {
     "name": "stderr",
     "output_type": "stream",
     "text": [
      "/home/duhao/.virtualenvs/3/lib/python3.6/site-packages/statsmodels/tools/_testing.py:19: FutureWarning: pandas.util.testing is deprecated. Use the functions in the public API at pandas.testing instead.\n",
      "  import pandas.util.testing as tm\n"
     ]
    }
   ],
   "source": [
    "import pandas as pd\n",
    "import pandas_profiling\n",
    "import numpy as np\n",
    "import os\n",
    "from sklearn.experimental import enable_iterative_imputer\n",
    "from sklearn.impute import IterativeImputer, SimpleImputer\n",
    "from patsy import dmatrices\n",
    "import statsmodels.api as sm \n",
    "import statsmodels.formula.api as smf\n",
    "from tableone import TableOne\n",
    "from sklearn.pipeline import Pipeline\n",
    "from sklearn.preprocessing import StandardScaler, MinMaxScaler\n",
    "from sklearn.linear_model import LogisticRegressionCV, LogisticRegression, BayesianRidge\n",
    "from sklearn.model_selection import StratifiedKFold, RandomizedSearchCV, cross_validate, train_test_split, cross_val_score\n",
    "from sklearn.model_selection import StratifiedShuffleSplit, GridSearchCV\n",
    "from sklearn.ensemble import (RandomTreesEmbedding, RandomForestClassifier,\n",
    "                              GradientBoostingClassifier)\n",
    "from sklearn.metrics import roc_curve, auc, confusion_matrix, accuracy_score, roc_auc_score\n",
    "from sklearn.model_selection import cross_val_predict\n",
    "import pickle\n",
    "from model_utils import model_fit, gen_ci, evaluate_model\n",
    "\n",
    "from xgboost import XGBClassifier\n",
    "import warnings\n",
    "warnings.simplefilter(action='ignore')\n",
    "import matplotlib.pyplot as plt\n",
    "%matplotlib inline\n",
    "%load_ext autoreload\n",
    "%autoreload 2"
   ]
  },
  {
   "cell_type": "code",
   "execution_count": 2,
   "metadata": {},
   "outputs": [],
   "source": [
    "cdiff_dir = \"/data/CDAI/\""
   ]
  },
  {
   "cell_type": "code",
   "execution_count": 3,
   "metadata": {},
   "outputs": [],
   "source": [
    "# features = ['age', 'gender', \n",
    "#             'comobidities', \n",
    "# #             'ckd', 'cih', 'arf', 'diabetes', \n",
    "# #              'cardiop_disease', 'liver_disease', 'ibd', 'malignancy',\n",
    "#             'aniongap', 'albumin', 'bicarbonate', 'bilirubin', \n",
    "#             'creatinine', 'chloride', 'glucose_lab', 'hematocrit', 'hemoglobin',\n",
    "#             'lactate', 'platelet', 'potassium', 'ptt', 'inr', 'pt', \n",
    "#             'sodium', 'bun', 'wbc', 'calcium_1st', 'freecalcium_1st', 'heartrate', \n",
    "#             'resprate', 'spo2', 'tempc', 'sysbp', 'diasbp', 'meanbp']\n",
    "features = ['age', 'gender', 'aniongap', 'albumin', 'bicarbonate', 'bilirubin',\n",
    "       'creatinine', 'chloride', 'glucose_lab', 'hematocrit', 'hemoglobin',\n",
    "       'lactate', 'platelet', 'potassium', 'ptt', 'inr', 'pt', 'sodium', 'bun',\n",
    "       'wbc', 'calcium_1st', 'freecalcium_1st', 'heartrate', 'resprate',\n",
    "       'spo2', 'tempc', 'sysbp', 'diasbp', 'meanbp']"
   ]
  },
  {
   "cell_type": "code",
   "execution_count": 4,
   "metadata": {},
   "outputs": [
    {
     "data": {
      "text/plain": [
       "29"
      ]
     },
     "execution_count": 4,
     "metadata": {},
     "output_type": "execute_result"
    }
   ],
   "source": [
    "len(features)"
   ]
  },
  {
   "cell_type": "code",
   "execution_count": 5,
   "metadata": {},
   "outputs": [],
   "source": [
    "fitted_models = []\n",
    "cali_models = []\n",
    "pred_scores = []\n",
    "labels = []\n",
    "preds = []\n",
    "accs = []\n",
    "aucs = []\n",
    "sens = []\n",
    "specs = []\n",
    "ppvs = []\n",
    "npvs = []\n",
    "thresholds = []\n",
    "for r_seed in range(100):\n",
    "    fullX_train = pd.read_csv(os.path.join(cdiff_dir, \"fullX_train_\"+str(r_seed)+\".csv\"))[features]\n",
    "    fully_train = pd.read_csv(os.path.join(cdiff_dir, \"./fully_train_\"+str(r_seed)+\".csv\"), header=None)\n",
    "    fullX_test = pd.read_csv(os.path.join(cdiff_dir, \"./fullX_test_\"+str(r_seed)+\".csv\"))[features]\n",
    "    fully_test = pd.read_csv(os.path.join(cdiff_dir, \"./fully_test_\"+str(r_seed)+\".csv\"), header=None)\n",
    "    \n",
    "    rf_model = RandomForestClassifier(bootstrap=True, class_weight=None, criterion='entropy',\n",
    "                       max_depth=10, max_features='auto', max_leaf_nodes=None,\n",
    "                       min_impurity_decrease=0.0, min_impurity_split=None,\n",
    "                       min_samples_leaf=1, min_samples_split=2,\n",
    "                       min_weight_fraction_leaf=0.0, n_estimators=1000,\n",
    "                       n_jobs=16, oob_score=False, random_state=None, verbose=0,\n",
    "                       warm_start=False)\n",
    "    \n",
    "    fitted_model, cali_model, y_test, y_prob, \\\n",
    "    decision, acc, auc, sensitivity, \\\n",
    "    specificity, pos_pred_val, neg_pred_val, thres  = model_fit(rf_model, fullX_train.values, \n",
    "                                                        fully_train.values, fullX_test.values, \n",
    "                                                        fully_test.values)\n",
    "    fitted_models.append(fitted_model)\n",
    "    cali_models.append(cali_model)\n",
    "    labels.append(y_test)\n",
    "    pred_scores.append(y_prob)\n",
    "    preds.append(decision)\n",
    "    accs.append(acc)\n",
    "    aucs.append(auc)\n",
    "    sens.append(sensitivity)\n",
    "    specs.append(specificity)\n",
    "    ppvs.append(pos_pred_val)\n",
    "    npvs.append(neg_pred_val)\n",
    "    thresholds.append(thres)"
   ]
  },
  {
   "cell_type": "code",
   "execution_count": null,
   "metadata": {},
   "outputs": [],
   "source": [
    "names = [\"Accuracy\", \"AUC\", \"Sensitivity\", \"Specificity\", \"PPV\", \"NPV\", \"Threshold\"] \n",
    "metrics = [accs, aucs, sens, specs, ppvs, npvs, thresholds]"
   ]
  },
  {
   "cell_type": "code",
   "execution_count": null,
   "metadata": {},
   "outputs": [],
   "source": [
    "for idx, name in enumerate(names):\n",
    "    lb, ub = gen_ci(np.array(metrics[idx]))\n",
    "    print(\"{0:s} is {1:.2f} [{2:.2f}, {3:.2f}]\".format(name, np.array(metrics[idx]).mean(), lb, ub))"
   ]
  },
  {
   "cell_type": "code",
   "execution_count": null,
   "metadata": {},
   "outputs": [],
   "source": [
    "pickle.dump(pred_scores, open(\"/data/volume02/CDAI/RF/scores.pkl\", 'wb'))\n",
    "pickle.dump(preds, open(\"/data/volume02/CDAI/RF/preds.pkl\", 'wb'))\n",
    "pickle.dump(labels, open(\"/data/volume02/CDAI/RF/labels.pkl\", 'wb'))"
   ]
  },
  {
   "cell_type": "code",
   "execution_count": null,
   "metadata": {},
   "outputs": [],
   "source": [
    "feature_importances = {feature:[] for feature in features}\n",
    "for model in fitted_models:\n",
    "    importances = model.feature_importances_.tolist()\n",
    "    for feature, importance in zip(features, importances):\n",
    "        feature_importances[feature].append(importance)"
   ]
  },
  {
   "cell_type": "code",
   "execution_count": null,
   "metadata": {},
   "outputs": [],
   "source": [
    "# feature_importances"
   ]
  },
  {
   "cell_type": "code",
   "execution_count": null,
   "metadata": {},
   "outputs": [],
   "source": [
    "final_importances = {feature: np.mean(feature_importances[feature]) for feature in feature_importances.keys()}"
   ]
  },
  {
   "cell_type": "code",
   "execution_count": null,
   "metadata": {},
   "outputs": [],
   "source": [
    "# len(fitted_models)"
   ]
  },
  {
   "cell_type": "code",
   "execution_count": null,
   "metadata": {},
   "outputs": [],
   "source": [
    "final_importances = sorted(final_importances.items(), key = lambda x: abs(x[1]), reverse = True)"
   ]
  },
  {
   "cell_type": "code",
   "execution_count": null,
   "metadata": {},
   "outputs": [],
   "source": [
    "final_importances"
   ]
  },
  {
   "cell_type": "code",
   "execution_count": 26,
   "metadata": {},
   "outputs": [
    {
     "name": "stdout",
     "output_type": "stream",
     "text": [
      "Thresholds: 0.43\n",
      "Accuracy: 84.41%\n",
      "AUROC: 0.73\n",
      "Sensitivity: 22.45%\n",
      "Specificity: 98.60%\n",
      "PPV: 78.57%\n",
      "NPV: 84.74%\n"
     ]
    },
    {
     "data": {
      "image/png": "[encoded data removed]",
      "text/plain": [
       "<Figure size 720x720 with 2 Axes>"
      ]
     },
     "metadata": {
      "needs_background": "light"
     },
     "output_type": "display_data"
    }
   ],
   "source": [
    "testidx = 1\n",
    "testmodel = cali_models[testidx]\n",
    "testX = pd.read_csv(os.path.join(cdiff_dir, \"./fullX_test_\"+str(testidx)+\".csv\"))[features]\n",
    "testy = pd.read_csv(os.path.join(cdiff_dir, \"./fully_test_\"+str(testidx)+\".csv\"), header=None)\n",
    "evaluate_model(testmodel, testX.values, testy.values,model_name=\"Random Forest\", cmap=plt.cm.Reds)"
   ]
  },
  {
   "cell_type": "code",
   "execution_count": 25,
   "metadata": {},
   "outputs": [
    {
     "name": "stdout",
     "output_type": "stream",
     "text": [
      "Thresholds: 0.39\n",
      "Accuracy: 79.85%\n",
      "AUROC: 0.71\n",
      "Sensitivity: 14.55%\n",
      "Specificity: 97.12%\n",
      "PPV: 57.14%\n",
      "NPV: 81.12%\n"
     ]
    },
    {
     "data": {
      "image/png": "[encoded data removed]",
      "text/plain": [
       "<Figure size 720x720 with 2 Axes>"
      ]
     },
     "metadata": {
      "needs_background": "light"
     },
     "output_type": "display_data"
    }
   ],
   "source": [
    "evaluate_model(cali_models[-1], fullX_test.values, fully_test.values, model_name=\"Random Forest\", cmap=plt.cm.Reds)"
   ]
  },
  {
   "cell_type": "code",
   "execution_count": null,
   "metadata": {},
   "outputs": [],
   "source": []
  }
 ],
 "metadata": {
  "kernelspec": {
   "display_name": "python3",
   "language": "python",
   "name": "python3.6"
  },
  "language_info": {
   "codemirror_mode": {
    "name": "ipython",
    "version": 3
   },
   "file_extension": ".py",
   "mimetype": "text/x-python",
   "name": "python",
   "nbconvert_exporter": "python",
   "pygments_lexer": "ipython3",
   "version": "3.6.8"
  }
 },
 "nbformat": 4,
 "nbformat_minor": 2
}
