{
 "cells": [
  {
   "cell_type": "code",
   "execution_count": 23,
   "metadata": {},
   "outputs": [
    {
     "name": "stdout",
     "output_type": "stream",
     "text": [
      "The autoreload extension is already loaded. To reload it, use:\n",
      "  %reload_ext autoreload\n"
     ]
    }
   ],
   "source": [
    "import pandas as pd\n",
    "import pandas_profiling\n",
    "import numpy as np\n",
    "import os\n",
    "from sklearn.experimental import enable_iterative_imputer\n",
    "from sklearn.impute import IterativeImputer, SimpleImputer\n",
    "from patsy import dmatrices\n",
    "import statsmodels.api as sm \n",
    "import statsmodels.formula.api as smf\n",
    "from tableone import TableOne\n",
    "from sklearn.pipeline import Pipeline\n",
    "from sklearn.preprocessing import StandardScaler, MinMaxScaler\n",
    "from sklearn.linear_model import LogisticRegressionCV, LogisticRegression, BayesianRidge\n",
    "from sklearn.model_selection import StratifiedKFold, RandomizedSearchCV, cross_validate, train_test_split, cross_val_score\n",
    "from sklearn.model_selection import StratifiedShuffleSplit, GridSearchCV\n",
    "from sklearn.ensemble import (RandomTreesEmbedding, RandomForestClassifier,\n",
    "                              GradientBoostingClassifier)\n",
    "from sklearn.metrics import roc_curve, auc, confusion_matrix, accuracy_score, roc_auc_score\n",
    "from sklearn.model_selection import cross_val_predict\n",
    "import pickle\n",
    "from model_utils import model_fit, gen_ci\n",
    "\n",
    "from xgboost import XGBClassifier\n",
    "import warnings\n",
    "warnings.simplefilter(action='ignore')\n",
    "import matplotlib.pyplot as plt\n",
    "%matplotlib inline\n",
    "%load_ext autoreload\n",
    "%autoreload 2"
   ]
  },
  {
   "cell_type": "code",
   "execution_count": 24,
   "metadata": {},
   "outputs": [],
   "source": [
    "cdiff_dir = \"/data/volume02/CDAI/\""
   ]
  },
  {
   "cell_type": "markdown",
   "metadata": {},
   "source": [
    "# CARDS"
   ]
  },
  {
   "cell_type": "code",
   "execution_count": 37,
   "metadata": {},
   "outputs": [],
   "source": [
    "fitted_models = []\n",
    "pred_scores = []\n",
    "labels = []\n",
    "preds = []\n",
    "accs = []\n",
    "aucs = []\n",
    "sens = []\n",
    "specs = []\n",
    "ppvs = []\n",
    "npvs = []\n",
    "thresholds = []\n",
    "for r_seed in range(100):\n",
    "#     fullX_test = pd.read_csv(os.path.join(cdiff_dir, \"./fullX_test_\"+str(r_seed)+\".csv\"))[features]\n",
    "    fully_test = pd.read_csv(os.path.join(cdiff_dir, \"./fully_test_\"+str(r_seed)+\".csv\"), header=None)\n",
    "    \n",
    "    scores = pd.read_csv(os.path.join(cdiff_dir, \"./fullX_test_\"+str(r_seed)+\".csv\"))[\"CARDS\"].values\n",
    "    \n",
    "    auc = roc_auc_score(y_score=scores, y_true=fully_test.values)\n",
    "    \n",
    "    labels.append(fully_test.values)\n",
    "    pred_scores.append(scores)\n",
    "    aucs.append(auc)"
   ]
  },
  {
   "cell_type": "code",
   "execution_count": 38,
   "metadata": {},
   "outputs": [
    {
     "name": "stdout",
     "output_type": "stream",
     "text": [
      "AUC is 0.57 [0.51, 0.65]\n"
     ]
    }
   ],
   "source": [
    "lb, ub = gen_ci(np.array(aucs))\n",
    "print(\"{0:s} is {1:.2f} [{2:.2f}, {3:.2f}]\".format(\"AUC\", np.array(aucs).mean(), lb, ub))"
   ]
  },
  {
   "cell_type": "code",
   "execution_count": 39,
   "metadata": {},
   "outputs": [],
   "source": [
    "pickle.dump(pred_scores, open(\"/data/volume02/CDAI/CARDS/scores.pkl\", 'wb'))\n",
    "pickle.dump(labels, open(\"/data/volume02/CDAI/CARDS/labels.pkl\", 'wb'))"
   ]
  },
  {
   "cell_type": "markdown",
   "metadata": {},
   "source": [
    "# ATLAS"
   ]
  },
  {
   "cell_type": "code",
   "execution_count": 40,
   "metadata": {},
   "outputs": [],
   "source": [
    "fitted_models = []\n",
    "pred_scores = []\n",
    "labels = []\n",
    "preds = []\n",
    "accs = []\n",
    "aucs = []\n",
    "sens = []\n",
    "specs = []\n",
    "ppvs = []\n",
    "npvs = []\n",
    "thresholds = []\n",
    "for r_seed in range(100):\n",
    "#     fullX_test = pd.read_csv(os.path.join(cdiff_dir, \"./fullX_test_\"+str(r_seed)+\".csv\"))[features]\n",
    "    fully_test = pd.read_csv(os.path.join(cdiff_dir, \"./fully_test_\"+str(r_seed)+\".csv\"), header=None)\n",
    "    \n",
    "    scores = pd.read_csv(os.path.join(cdiff_dir, \"./fullX_test_\"+str(r_seed)+\".csv\"))[\"ATLAS\"].values\n",
    "    \n",
    "    auc = roc_auc_score(y_score=scores, y_true=fully_test.values)\n",
    "    \n",
    "    labels.append(fully_test.values)\n",
    "    pred_scores.append(scores)\n",
    "    aucs.append(auc)"
   ]
  },
  {
   "cell_type": "code",
   "execution_count": 41,
   "metadata": {},
   "outputs": [
    {
     "name": "stdout",
     "output_type": "stream",
     "text": [
      "AUC is 0.63 [0.54, 0.70]\n"
     ]
    }
   ],
   "source": [
    "lb, ub = gen_ci(np.array(aucs))\n",
    "print(\"{0:s} is {1:.2f} [{2:.2f}, {3:.2f}]\".format(\"AUC\", np.array(aucs).mean(), lb, ub))"
   ]
  },
  {
   "cell_type": "code",
   "execution_count": 42,
   "metadata": {},
   "outputs": [],
   "source": [
    "pickle.dump(pred_scores, open(\"/data/volume02/CDAI/ATLAS/scores.pkl\", 'wb'))\n",
    "pickle.dump(labels, open(\"/data/volume02/CDAI/ATLAS/labels.pkl\", 'wb'))"
   ]
  },
  {
   "cell_type": "code",
   "execution_count": null,
   "metadata": {},
   "outputs": [],
   "source": []
  }
 ],
 "metadata": {
  "kernelspec": {
   "display_name": "Python 3",
   "language": "python",
   "name": "py3"
  },
  "language_info": {
   "codemirror_mode": {
    "name": "ipython",
    "version": 3
   },
   "file_extension": ".py",
   "mimetype": "text/x-python",
   "name": "python",
   "nbconvert_exporter": "python",
   "pygments_lexer": "ipython3",
   "version": "3.6.5"
  }
 },
 "nbformat": 4,
 "nbformat_minor": 2
}
