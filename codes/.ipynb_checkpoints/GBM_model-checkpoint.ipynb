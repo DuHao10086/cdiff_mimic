{
 "cells": [
  {
   "cell_type": "code",
   "execution_count": 19,
   "metadata": {},
   "outputs": [
    {
     "name": "stdout",
     "output_type": "stream",
     "text": [
      "The autoreload extension is already loaded. To reload it, use:\n",
      "  %reload_ext autoreload\n"
     ]
    }
   ],
   "source": [
    "import pandas as pd\n",
    "import pandas_profiling\n",
    "import numpy as np\n",
    "import os\n",
    "from sklearn.experimental import enable_iterative_imputer\n",
    "from sklearn.impute import IterativeImputer, SimpleImputer\n",
    "from patsy import dmatrices\n",
    "import statsmodels.api as sm \n",
    "import statsmodels.formula.api as smf\n",
    "from tableone import TableOne\n",
    "from sklearn.pipeline import Pipeline\n",
    "from sklearn.preprocessing import StandardScaler, MinMaxScaler\n",
    "from sklearn.linear_model import LogisticRegressionCV, LogisticRegression, BayesianRidge\n",
    "from sklearn.model_selection import StratifiedKFold, RandomizedSearchCV, cross_validate, train_test_split, cross_val_score\n",
    "from sklearn.model_selection import StratifiedShuffleSplit, GridSearchCV\n",
    "from sklearn.ensemble import (RandomTreesEmbedding, RandomForestClassifier,\n",
    "                              GradientBoostingClassifier)\n",
    "from sklearn.metrics import roc_curve, auc, confusion_matrix, accuracy_score, roc_auc_score\n",
    "from sklearn.model_selection import cross_val_predict\n",
    "import pickle\n",
    "from model_utils import model_fit, gen_ci, evaluate_model\n",
    "\n",
    "from xgboost import XGBClassifier\n",
    "import warnings\n",
    "warnings.simplefilter(action='ignore')\n",
    "import matplotlib.pyplot as plt\n",
    "%matplotlib inline\n",
    "%load_ext autoreload\n",
    "%autoreload 2"
   ]
  },
  {
   "cell_type": "code",
   "execution_count": 2,
   "metadata": {},
   "outputs": [],
   "source": [
    "cdiff_dir = \"/data/volume02/CDAI/\""
   ]
  },
  {
   "cell_type": "code",
   "execution_count": 3,
   "metadata": {},
   "outputs": [],
   "source": [
    "# features = ['age', 'gender', \n",
    "#             'comobidities', \n",
    "# #             'ckd', 'cih', 'arf', 'diabetes', \n",
    "# #              'cardiop_disease', 'liver_disease', 'ibd', 'malignancy',\n",
    "#             'aniongap', 'albumin', 'bicarbonate', 'bilirubin', \n",
    "#             'creatinine', 'chloride', 'glucose_lab', 'hematocrit', 'hemoglobin',\n",
    "#             'lactate', 'platelet', 'potassium', 'ptt', 'inr', 'pt', \n",
    "#             'sodium', 'bun', 'wbc', 'calcium_1st', 'freecalcium_1st', 'heartrate', \n",
    "#             'resprate', 'spo2', 'tempc', 'sysbp', 'diasbp', 'meanbp']\n",
    "features = ['age', 'gender', 'aniongap', 'albumin', 'bicarbonate', 'bilirubin',\n",
    "       'creatinine', 'chloride', 'glucose_lab', 'hematocrit', 'hemoglobin',\n",
    "       'lactate', 'platelet', 'potassium', 'ptt', 'inr', 'pt', 'sodium', 'bun',\n",
    "       'wbc', 'calcium_1st', 'freecalcium_1st', 'heartrate', 'resprate',\n",
    "       'spo2', 'tempc', 'sysbp', 'diasbp', 'meanbp']"
   ]
  },
  {
   "cell_type": "code",
   "execution_count": 4,
   "metadata": {},
   "outputs": [
    {
     "data": {
      "text/plain": [
       "29"
      ]
     },
     "execution_count": 4,
     "metadata": {},
     "output_type": "execute_result"
    }
   ],
   "source": [
    "len(features)"
   ]
  },
  {
   "cell_type": "code",
   "execution_count": 10,
   "metadata": {},
   "outputs": [],
   "source": [
    "fitted_models = []\n",
    "cali_models = []\n",
    "pred_scores = []\n",
    "labels = []\n",
    "preds = []\n",
    "accs = []\n",
    "aucs = []\n",
    "sens = []\n",
    "specs = []\n",
    "ppvs = []\n",
    "npvs = []\n",
    "thresholds = []\n",
    "for r_seed in range(100):\n",
    "    fullX_train = pd.read_csv(os.path.join(cdiff_dir, \"fullX_train_\"+str(r_seed)+\".csv\"))[features]\n",
    "    fully_train = pd.read_csv(os.path.join(cdiff_dir, \"./fully_train_\"+str(r_seed)+\".csv\"), header=None)\n",
    "    fullX_test = pd.read_csv(os.path.join(cdiff_dir, \"./fullX_test_\"+str(r_seed)+\".csv\"))[features]\n",
    "    fully_test = pd.read_csv(os.path.join(cdiff_dir, \"./fully_test_\"+str(r_seed)+\".csv\"), header=None)\n",
    "    \n",
    "    xgb_model = XGBClassifier(base_score=0.5, booster='gbtree', colsample_bylevel=1,\n",
    "              colsample_bytree=1, gamma=0, learning_rate=0.01, max_delta_step=0,\n",
    "              max_depth=12, min_child_weight=8, missing=None, n_estimators=500,\n",
    "              n_jobs=1, nthread=None, objective='binary:logistic',\n",
    "              predictor='gpu_predictor', random_state=0, reg_alpha=0,\n",
    "              reg_lambda=1, scale_pos_weight=1, seed=None, silent=True,\n",
    "              subsample=0.6, tree_method='gpu_hist')\n",
    "    \n",
    "    fitted_model, cali_model, y_test, y_prob, \\\n",
    "    decision, acc, auc, sensitivity, \\\n",
    "    specificity, pos_pred_val, neg_pred_val, thres = model_fit(xgb_model, fullX_train.values, \n",
    "                                                        fully_train.values, fullX_test.values, \n",
    "                                                        fully_test.values)\n",
    "    fitted_models.append(fitted_model)\n",
    "    cali_models.append(cali_model)\n",
    "    labels.append(y_test)\n",
    "    pred_scores.append(y_prob)\n",
    "    preds.append(decision)\n",
    "    accs.append(acc)\n",
    "    aucs.append(auc)\n",
    "    sens.append(sensitivity)\n",
    "    specs.append(specificity)\n",
    "    ppvs.append(pos_pred_val)\n",
    "    npvs.append(neg_pred_val)\n",
    "    thresholds.append(thres)"
   ]
  },
  {
   "cell_type": "code",
   "execution_count": 11,
   "metadata": {},
   "outputs": [],
   "source": [
    "names = [\"Accuracy\", \"AUC\", \"Sensitivity\", \"Specificity\", \"PPV\", \"NPV\", \"Threshold\"] \n",
    "metrics = [accs, aucs, sens, specs, ppvs, npvs, thresholds]"
   ]
  },
  {
   "cell_type": "code",
   "execution_count": 12,
   "metadata": {},
   "outputs": [
    {
     "name": "stdout",
     "output_type": "stream",
     "text": [
      "Accuracy is 0.82 [0.78, 0.86]\n",
      "AUC is 0.72 [0.64, 0.78]\n",
      "Sensitivity is 0.16 [0.09, 0.23]\n",
      "Specificity is 0.97 [0.96, 0.99]\n",
      "PPV is 0.54 [0.29, 0.79]\n",
      "NPV is 0.83 [0.79, 0.88]\n",
      "Threshold is 0.43 [0.36, 0.54]\n"
     ]
    }
   ],
   "source": [
    "for idx, name in enumerate(names):\n",
    "    lb, ub = gen_ci(np.array(metrics[idx]))\n",
    "    print(\"{0:s} is {1:.2f} [{2:.2f}, {3:.2f}]\".format(name, np.array(metrics[idx]).mean(), lb, ub))"
   ]
  },
  {
   "cell_type": "code",
   "execution_count": 13,
   "metadata": {},
   "outputs": [],
   "source": [
    "pickle.dump(pred_scores, open(\"/data/volume02/CDAI/GBM/scores.pkl\", 'wb'))\n",
    "pickle.dump(preds, open(\"/data/volume02/CDAI/GBM/preds.pkl\", 'wb'))\n",
    "pickle.dump(labels, open(\"/data/volume02/CDAI/GBM/labels.pkl\", 'wb'))"
   ]
  },
  {
   "cell_type": "code",
   "execution_count": 14,
   "metadata": {},
   "outputs": [],
   "source": [
    "feature_importances = {feature:[] for feature in features}\n",
    "for model in fitted_models:\n",
    "    importances = model.feature_importances_.tolist()\n",
    "    for feature, importance in zip(features, importances):\n",
    "        feature_importances[feature].append(importance)"
   ]
  },
  {
   "cell_type": "code",
   "execution_count": 15,
   "metadata": {},
   "outputs": [],
   "source": [
    "final_importances = {feature: np.mean(feature_importances[feature]) for feature in feature_importances.keys()}"
   ]
  },
  {
   "cell_type": "code",
   "execution_count": 16,
   "metadata": {},
   "outputs": [],
   "source": [
    "final_importances = sorted(final_importances.items(), key = lambda x: abs(x[1]), reverse = True)"
   ]
  },
  {
   "cell_type": "code",
   "execution_count": 17,
   "metadata": {},
   "outputs": [
    {
     "data": {
      "text/plain": [
       "[('wbc', 0.049056240431964396),\n",
       " ('bicarbonate', 0.04514551490545273),\n",
       " ('meanbp', 0.04439873158931732),\n",
       " ('bun', 0.04309433557093143),\n",
       " ('albumin', 0.04280096594244242),\n",
       " ('lactate', 0.03992864008992911),\n",
       " ('platelet', 0.03840829536318779),\n",
       " ('resprate', 0.035337632466107605),\n",
       " ('sodium', 0.03525786839425564),\n",
       " ('potassium', 0.03473487664014101),\n",
       " ('diasbp', 0.03460647463798523),\n",
       " ('heartrate', 0.034509626664221284),\n",
       " ('pt', 0.03376706505194307),\n",
       " ('chloride', 0.0334874358586967),\n",
       " ('inr', 0.032958229538053274),\n",
       " ('freecalcium_1st', 0.032628586236387494),\n",
       " ('tempc', 0.03249504139646888),\n",
       " ('glucose_lab', 0.03224272323772311),\n",
       " ('ptt', 0.03185539349913597),\n",
       " ('age', 0.03167571786791086),\n",
       " ('hematocrit', 0.030231539849191903),\n",
       " ('bilirubin', 0.03022485088557005),\n",
       " ('hemoglobin', 0.02961536556482315),\n",
       " ('sysbp', 0.029157431311905384),\n",
       " ('calcium_1st', 0.029022525027394296),\n",
       " ('creatinine', 0.02893494423478842),\n",
       " ('aniongap', 0.028896353468298913),\n",
       " ('spo2', 0.028664633333683014),\n",
       " ('gender', 0.026862963456660508)]"
      ]
     },
     "execution_count": 17,
     "metadata": {},
     "output_type": "execute_result"
    }
   ],
   "source": [
    "final_importances"
   ]
  },
  {
   "cell_type": "code",
   "execution_count": 20,
   "metadata": {},
   "outputs": [
    {
     "name": "stdout",
     "output_type": "stream",
     "text": [
      "Thresholds: 0.40\n",
      "Accuracy: 79.85%\n",
      "AUROC: 0.73\n",
      "Sensitivity: 14.55%\n",
      "Specificity: 97.12%\n",
      "PPV: 57.14%\n",
      "NPV: 81.12%\n"
     ]
    },
    {
     "data": {
      "image/png": "[encoded data removed]",
      "text/plain": [
       "<Figure size 720x720 with 2 Axes>"
      ]
     },
     "metadata": {
      "needs_background": "light"
     },
     "output_type": "display_data"
    }
   ],
   "source": [
    "evaluate_model(cali_models[-1], fullX_test.values, fully_test.values, \n",
    "               model_name=\"Gradient Boosting Machine\", cmap=plt.cm.Greens)"
   ]
  },
  {
   "cell_type": "code",
   "execution_count": null,
   "metadata": {},
   "outputs": [],
   "source": []
  }
 ],
 "metadata": {
  "kernelspec": {
   "display_name": "Python 3",
   "language": "python",
   "name": "py3"
  },
  "language_info": {
   "codemirror_mode": {
    "name": "ipython",
    "version": 3
   },
   "file_extension": ".py",
   "mimetype": "text/x-python",
   "name": "python",
   "nbconvert_exporter": "python",
   "pygments_lexer": "ipython3",
   "version": "3.6.5"
  }
 },
 "nbformat": 4,
 "nbformat_minor": 2
}
