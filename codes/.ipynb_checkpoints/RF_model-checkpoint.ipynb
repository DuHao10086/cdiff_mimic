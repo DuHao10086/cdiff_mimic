{
 "cells": [
  {
   "cell_type": "code",
   "execution_count": 6,
   "metadata": {},
   "outputs": [
    {
     "name": "stdout",
     "output_type": "stream",
     "text": [
      "The autoreload extension is already loaded. To reload it, use:\n",
      "  %reload_ext autoreload\n"
     ]
    }
   ],
   "source": [
    "import pandas as pd\n",
    "import pandas_profiling\n",
    "import numpy as np\n",
    "import os\n",
    "from sklearn.experimental import enable_iterative_imputer\n",
    "from sklearn.impute import IterativeImputer, SimpleImputer\n",
    "from patsy import dmatrices\n",
    "import statsmodels.api as sm \n",
    "import statsmodels.formula.api as smf\n",
    "from tableone import TableOne\n",
    "from sklearn.pipeline import Pipeline\n",
    "from sklearn.preprocessing import StandardScaler, MinMaxScaler\n",
    "from sklearn.linear_model import LogisticRegressionCV, LogisticRegression, BayesianRidge\n",
    "from sklearn.model_selection import StratifiedKFold, RandomizedSearchCV, cross_validate, train_test_split, cross_val_score\n",
    "from sklearn.model_selection import StratifiedShuffleSplit, GridSearchCV\n",
    "from sklearn.ensemble import (RandomTreesEmbedding, RandomForestClassifier,\n",
    "                              GradientBoostingClassifier)\n",
    "from sklearn.metrics import roc_curve, auc, confusion_matrix, accuracy_score, roc_auc_score\n",
    "from sklearn.model_selection import cross_val_predict\n",
    "import pickle\n",
    "from model_utils import model_fit, gen_ci, evaluate_model\n",
    "\n",
    "from xgboost import XGBClassifier\n",
    "import warnings\n",
    "warnings.simplefilter(action='ignore')\n",
    "import matplotlib.pyplot as plt\n",
    "%matplotlib inline\n",
    "%load_ext autoreload\n",
    "%autoreload 2"
   ]
  },
  {
   "cell_type": "code",
   "execution_count": 7,
   "metadata": {},
   "outputs": [],
   "source": [
    "cdiff_dir = \"/data/volume02/CDAI/\""
   ]
  },
  {
   "cell_type": "code",
   "execution_count": 8,
   "metadata": {},
   "outputs": [],
   "source": [
    "# features = ['age', 'gender', \n",
    "#             'comobidities', \n",
    "# #             'ckd', 'cih', 'arf', 'diabetes', \n",
    "# #              'cardiop_disease', 'liver_disease', 'ibd', 'malignancy',\n",
    "#             'aniongap', 'albumin', 'bicarbonate', 'bilirubin', \n",
    "#             'creatinine', 'chloride', 'glucose_lab', 'hematocrit', 'hemoglobin',\n",
    "#             'lactate', 'platelet', 'potassium', 'ptt', 'inr', 'pt', \n",
    "#             'sodium', 'bun', 'wbc', 'calcium_1st', 'freecalcium_1st', 'heartrate', \n",
    "#             'resprate', 'spo2', 'tempc', 'sysbp', 'diasbp', 'meanbp']\n",
    "features = ['age', 'gender', 'aniongap', 'albumin', 'bicarbonate', 'bilirubin',\n",
    "       'creatinine', 'chloride', 'glucose_lab', 'hematocrit', 'hemoglobin',\n",
    "       'lactate', 'platelet', 'potassium', 'ptt', 'inr', 'pt', 'sodium', 'bun',\n",
    "       'wbc', 'calcium_1st', 'freecalcium_1st', 'heartrate', 'resprate',\n",
    "       'spo2', 'tempc', 'sysbp', 'diasbp', 'meanbp']"
   ]
  },
  {
   "cell_type": "code",
   "execution_count": 9,
   "metadata": {},
   "outputs": [
    {
     "data": {
      "text/plain": [
       "29"
      ]
     },
     "execution_count": 9,
     "metadata": {},
     "output_type": "execute_result"
    }
   ],
   "source": [
    "len(features)"
   ]
  },
  {
   "cell_type": "code",
   "execution_count": 10,
   "metadata": {},
   "outputs": [],
   "source": [
    "fitted_models = []\n",
    "cali_models = []\n",
    "pred_scores = []\n",
    "labels = []\n",
    "preds = []\n",
    "accs = []\n",
    "aucs = []\n",
    "sens = []\n",
    "specs = []\n",
    "ppvs = []\n",
    "npvs = []\n",
    "thresholds = []\n",
    "for r_seed in range(100):\n",
    "    fullX_train = pd.read_csv(os.path.join(cdiff_dir, \"fullX_train_\"+str(r_seed)+\".csv\"))[features]\n",
    "    fully_train = pd.read_csv(os.path.join(cdiff_dir, \"./fully_train_\"+str(r_seed)+\".csv\"), header=None)\n",
    "    fullX_test = pd.read_csv(os.path.join(cdiff_dir, \"./fullX_test_\"+str(r_seed)+\".csv\"))[features]\n",
    "    fully_test = pd.read_csv(os.path.join(cdiff_dir, \"./fully_test_\"+str(r_seed)+\".csv\"), header=None)\n",
    "    \n",
    "    rf_model = RandomForestClassifier(bootstrap=True, class_weight=None, criterion='entropy',\n",
    "                       max_depth=10, max_features='auto', max_leaf_nodes=None,\n",
    "                       min_impurity_decrease=0.0, min_impurity_split=None,\n",
    "                       min_samples_leaf=1, min_samples_split=2,\n",
    "                       min_weight_fraction_leaf=0.0, n_estimators=1000,\n",
    "                       n_jobs=16, oob_score=False, random_state=None, verbose=0,\n",
    "                       warm_start=False)\n",
    "    \n",
    "    fitted_model, cali_model, y_test, y_prob, \\\n",
    "    decision, acc, auc, sensitivity, \\\n",
    "    specificity, pos_pred_val, neg_pred_val, thres  = model_fit(rf_model, fullX_train.values, \n",
    "                                                        fully_train.values, fullX_test.values, \n",
    "                                                        fully_test.values)\n",
    "    fitted_models.append(fitted_model)\n",
    "    cali_models.append(cali_model)\n",
    "    labels.append(y_test)\n",
    "    pred_scores.append(y_prob)\n",
    "    preds.append(decision)\n",
    "    accs.append(acc)\n",
    "    aucs.append(auc)\n",
    "    sens.append(sensitivity)\n",
    "    specs.append(specificity)\n",
    "    ppvs.append(pos_pred_val)\n",
    "    npvs.append(neg_pred_val)\n",
    "    thresholds.append(thres)"
   ]
  },
  {
   "cell_type": "code",
   "execution_count": 11,
   "metadata": {},
   "outputs": [],
   "source": [
    "names = [\"Accuracy\", \"AUC\", \"Sensitivity\", \"Specificity\", \"PPV\", \"NPV\", \"Threshold\"] \n",
    "metrics = [accs, aucs, sens, specs, ppvs, npvs, thresholds]"
   ]
  },
  {
   "cell_type": "code",
   "execution_count": 12,
   "metadata": {},
   "outputs": [
    {
     "name": "stdout",
     "output_type": "stream",
     "text": [
      "Accuracy is 0.82 [0.78, 0.86]\n",
      "AUC is 0.71 [0.63, 0.77]\n",
      "Sensitivity is 0.16 [0.10, 0.24]\n",
      "Specificity is 0.97 [0.95, 0.99]\n",
      "PPV is 0.57 [0.29, 0.79]\n",
      "NPV is 0.84 [0.79, 0.88]\n",
      "Threshold is 0.43 [0.36, 0.51]\n"
     ]
    }
   ],
   "source": [
    "for idx, name in enumerate(names):\n",
    "    lb, ub = gen_ci(np.array(metrics[idx]))\n",
    "    print(\"{0:s} is {1:.2f} [{2:.2f}, {3:.2f}]\".format(name, np.array(metrics[idx]).mean(), lb, ub))"
   ]
  },
  {
   "cell_type": "code",
   "execution_count": 13,
   "metadata": {},
   "outputs": [],
   "source": [
    "pickle.dump(pred_scores, open(\"/data/volume02/CDAI/RF/scores.pkl\", 'wb'))\n",
    "pickle.dump(preds, open(\"/data/volume02/CDAI/RF/preds.pkl\", 'wb'))\n",
    "pickle.dump(labels, open(\"/data/volume02/CDAI/RF/labels.pkl\", 'wb'))"
   ]
  },
  {
   "cell_type": "code",
   "execution_count": 23,
   "metadata": {},
   "outputs": [],
   "source": [
    "feature_importances = {feature:[] for feature in features}\n",
    "for model in fitted_models:\n",
    "    importances = model.feature_importances_.tolist()\n",
    "    for feature, importance in zip(features, importances):\n",
    "        feature_importances[feature].append(importance)"
   ]
  },
  {
   "cell_type": "code",
   "execution_count": 25,
   "metadata": {},
   "outputs": [],
   "source": [
    "# feature_importances"
   ]
  },
  {
   "cell_type": "code",
   "execution_count": 26,
   "metadata": {},
   "outputs": [],
   "source": [
    "final_importances = {feature: np.mean(feature_importances[feature]) for feature in feature_importances.keys()}"
   ]
  },
  {
   "cell_type": "code",
   "execution_count": 27,
   "metadata": {},
   "outputs": [],
   "source": [
    "# len(fitted_models)"
   ]
  },
  {
   "cell_type": "code",
   "execution_count": 28,
   "metadata": {},
   "outputs": [],
   "source": [
    "final_importances = sorted(final_importances.items(), key = lambda x: abs(x[1]), reverse = True)"
   ]
  },
  {
   "cell_type": "code",
   "execution_count": 29,
   "metadata": {},
   "outputs": [
    {
     "data": {
      "text/plain": [
       "[('wbc', 0.06169464054450421),\n",
       " ('bun', 0.04893538130134057),\n",
       " ('platelet', 0.04583095293934078),\n",
       " ('albumin', 0.04580749019054451),\n",
       " ('meanbp', 0.04321044949815388),\n",
       " ('lactate', 0.04097295313278934),\n",
       " ('bicarbonate', 0.04018626140475825),\n",
       " ('heartrate', 0.039411229473436386),\n",
       " ('age', 0.03916173805325062),\n",
       " ('freecalcium_1st', 0.037451063994455),\n",
       " ('diasbp', 0.03654776373195322),\n",
       " ('tempc', 0.035590845962006054),\n",
       " ('ptt', 0.035222677513795334),\n",
       " ('glucose_lab', 0.03425138946371305),\n",
       " ('resprate', 0.032756628493669254),\n",
       " ('pt', 0.03273805597543651),\n",
       " ('sysbp', 0.032366036083701456),\n",
       " ('potassium', 0.03220744168557755),\n",
       " ('sodium', 0.03188543141385276),\n",
       " ('chloride', 0.031730572674375845),\n",
       " ('hematocrit', 0.03140032148878546),\n",
       " ('calcium_1st', 0.029996629939479047),\n",
       " ('hemoglobin', 0.029173628020591133),\n",
       " ('creatinine', 0.028556761459203116),\n",
       " ('bilirubin', 0.027472653023843698),\n",
       " ('aniongap', 0.02511108513772783),\n",
       " ('spo2', 0.02268575491896814),\n",
       " ('inr', 0.022226281097180854),\n",
       " ('gender', 0.005417881383566136)]"
      ]
     },
     "execution_count": 29,
     "metadata": {},
     "output_type": "execute_result"
    }
   ],
   "source": [
    "final_importances"
   ]
  },
  {
   "cell_type": "code",
   "execution_count": 18,
   "metadata": {},
   "outputs": [
    {
     "name": "stdout",
     "output_type": "stream",
     "text": [
      "Thresholds: 0.40\n",
      "Accuracy: 79.85%\n",
      "AUROC: 0.72\n",
      "Sensitivity: 14.55%\n",
      "Specificity: 97.12%\n",
      "PPV: 57.14%\n",
      "NPV: 81.12%\n"
     ]
    },
    {
     "data": {
      "image/png": "[encoded data removed]",
      "text/plain": [
       "<Figure size 720x720 with 2 Axes>"
      ]
     },
     "metadata": {
      "needs_background": "light"
     },
     "output_type": "display_data"
    }
   ],
   "source": [
    "evaluate_model(cali_models[-1], fullX_test.values, fully_test.values, model_name=\"Random Forest\", cmap=plt.cm.Reds)"
   ]
  },
  {
   "cell_type": "code",
   "execution_count": null,
   "metadata": {},
   "outputs": [],
   "source": []
  }
 ],
 "metadata": {
  "kernelspec": {
   "display_name": "Python 3",
   "language": "python",
   "name": "python3"
  },
  "language_info": {
   "codemirror_mode": {
    "name": "ipython",
    "version": 3
   },
   "file_extension": ".py",
   "mimetype": "text/x-python",
   "name": "python",
   "nbconvert_exporter": "python",
   "pygments_lexer": "ipython3",
   "version": "3.6.5"
  }
 },
 "nbformat": 4,
 "nbformat_minor": 2
}
