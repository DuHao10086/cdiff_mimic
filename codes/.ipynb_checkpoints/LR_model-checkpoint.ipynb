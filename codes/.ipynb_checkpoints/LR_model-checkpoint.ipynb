{
 "cells": [
  {
   "cell_type": "code",
   "execution_count": 5,
   "metadata": {},
   "outputs": [
    {
     "name": "stderr",
     "output_type": "stream",
     "text": [
      "/home/duhao/miniconda3/envs/python3.7/lib/python3.7/site-packages/ipykernel/ipkernel.py:287: DeprecationWarning: `should_run_async` will not call `transform_cell` automatically in the future. Please pass the result to `transformed_cell` argument and any exception that happen during thetransform in `preprocessing_exc_tuple` in IPython 7.17 and above.\n",
      "  and should_run_async(code)\n"
     ]
    }
   ],
   "source": [
    "import pandas as pd\n",
    "import pandas_profiling\n",
    "import numpy as np\n",
    "import os\n",
    "from sklearn.experimental import enable_iterative_imputer\n",
    "from sklearn.impute import IterativeImputer, SimpleImputer\n",
    "from patsy import dmatrices\n",
    "import statsmodels.api as sm \n",
    "import statsmodels.formula.api as smf\n",
    "from tableone import TableOne\n",
    "from sklearn.pipeline import Pipeline\n",
    "from sklearn.preprocessing import StandardScaler, MinMaxScaler\n",
    "from sklearn.linear_model import LogisticRegressionCV, LogisticRegression, BayesianRidge\n",
    "from sklearn.model_selection import StratifiedKFold, RandomizedSearchCV, cross_validate, train_test_split, cross_val_score\n",
    "from sklearn.model_selection import StratifiedShuffleSplit, GridSearchCV\n",
    "from sklearn.ensemble import (RandomTreesEmbedding, RandomForestClassifier,\n",
    "                              GradientBoostingClassifier)\n",
    "from sklearn.metrics import roc_curve, auc, confusion_matrix, accuracy_score, roc_auc_score\n",
    "from sklearn.model_selection import cross_val_predict\n",
    "import pickle\n",
    "from model_utils import model_fit, gen_ci, evaluate_model\n",
    "\n",
    "from xgboost import XGBClassifier\n",
    "import warnings\n",
    "warnings.simplefilter(action='ignore')\n",
    "import matplotlib.pyplot as plt\n",
    "%matplotlib inline\n",
    "%load_ext autoreload\n",
    "%autoreload 2"
   ]
  },
  {
   "cell_type": "code",
   "execution_count": 6,
   "metadata": {},
   "outputs": [],
   "source": [
    "cdiff_dir = \"/data/volume02/CDAI/\""
   ]
  },
  {
   "cell_type": "code",
   "execution_count": 7,
   "metadata": {},
   "outputs": [],
   "source": [
    "# features = ['age', 'gender', \n",
    "#             'comobidities', \n",
    "# #             'ckd', 'cih', 'arf', 'diabetes', \n",
    "# #              'cardiop_disease', 'liver_disease', 'ibd', 'malignancy',\n",
    "#             'aniongap', 'albumin', 'bicarbonate', 'bilirubin', \n",
    "#             'creatinine', 'chloride', 'glucose_lab', 'hematocrit', 'hemoglobin',\n",
    "#             'lactate', 'platelet', 'potassium', 'ptt', 'inr', 'pt', \n",
    "#             'sodium', 'bun', 'wbc', 'calcium_1st', 'freecalcium_1st', 'heartrate', \n",
    "#             'resprate', 'spo2', 'tempc', 'sysbp', 'diasbp', 'meanbp']\n",
    "\n",
    "features = ['age', 'gender', 'aniongap', 'albumin', 'bicarbonate', 'bilirubin',\n",
    "       'creatinine', 'chloride', 'glucose_lab', 'hematocrit', 'hemoglobin',\n",
    "       'lactate', 'platelet', 'potassium', 'ptt', 'inr', 'pt', 'sodium', 'bun',\n",
    "       'wbc', 'calcium_1st', 'freecalcium_1st', 'heartrate', 'resprate',\n",
    "       'spo2', 'tempc', 'sysbp', 'diasbp', 'meanbp']"
   ]
  },
  {
   "cell_type": "code",
   "execution_count": 8,
   "metadata": {},
   "outputs": [],
   "source": [
    "# fullX_train.columns"
   ]
  },
  {
   "cell_type": "code",
   "execution_count": 9,
   "metadata": {},
   "outputs": [
    {
     "data": {
      "text/plain": [
       "29"
      ]
     },
     "execution_count": 9,
     "metadata": {},
     "output_type": "execute_result"
    }
   ],
   "source": [
    "len(features)"
   ]
  },
  {
   "cell_type": "code",
   "execution_count": 10,
   "metadata": {},
   "outputs": [],
   "source": [
    "# print(fullX_train.shape)\n",
    "# print(fully_train.shape)\n",
    "# print(fullX_test.shape)\n",
    "# print(fully_test.shape)"
   ]
  },
  {
   "cell_type": "code",
   "execution_count": 11,
   "metadata": {},
   "outputs": [],
   "source": [
    "fitted_models = []\n",
    "cali_models = []\n",
    "pred_scores = []\n",
    "labels = []\n",
    "preds = []\n",
    "accs = []\n",
    "aucs = []\n",
    "sens = []\n",
    "specs = []\n",
    "ppvs = []\n",
    "npvs = []\n",
    "thresholds = []\n",
    "for r_seed in range(100):\n",
    "    fullX_train = pd.read_csv(os.path.join(cdiff_dir, \"fullX_train_\"+str(r_seed)+\".csv\"))[features]\n",
    "    fully_train = pd.read_csv(os.path.join(cdiff_dir, \"./fully_train_\"+str(r_seed)+\".csv\"), header=None)\n",
    "    fullX_test = pd.read_csv(os.path.join(cdiff_dir, \"./fullX_test_\"+str(r_seed)+\".csv\"))[features]\n",
    "    fully_test = pd.read_csv(os.path.join(cdiff_dir, \"./fully_test_\"+str(r_seed)+\".csv\"), header=None)\n",
    "    \n",
    "    logit_model = LogisticRegression(C=1.0, class_weight=None, dual=False, fit_intercept=True,\n",
    "                                 intercept_scaling=1, l1_ratio=None, max_iter=1000,\n",
    "                                 multi_class='auto', n_jobs=16, penalty='l2',\n",
    "                                 random_state=None, solver='lbfgs', tol=0.0001, verbose=0,\n",
    "                                 warm_start=False)\n",
    "    fitted_model, cali_model, y_test, y_prob, \\\n",
    "    decision, acc, auc, sensitivity, \\\n",
    "    specificity, pos_pred_val, neg_pred_val, thres = model_fit(logit_model, fullX_train.values, \n",
    "                                                        fully_train.values, fullX_test.values, \n",
    "                                                        fully_test.values)\n",
    "    fitted_models.append(fitted_model)\n",
    "    cali_models.append(cali_model)\n",
    "    labels.append(y_test)\n",
    "    pred_scores.append(y_prob)\n",
    "    preds.append(decision)\n",
    "    accs.append(acc)\n",
    "    aucs.append(auc)\n",
    "    sens.append(sensitivity)\n",
    "    specs.append(specificity)\n",
    "    ppvs.append(pos_pred_val)\n",
    "    npvs.append(neg_pred_val)\n",
    "    thresholds.append(thres)"
   ]
  },
  {
   "cell_type": "code",
   "execution_count": 12,
   "metadata": {},
   "outputs": [],
   "source": [
    "names = [\"Accuracy\", \"AUC\", \"Sensitivity\", \"Specificity\", \"PPV\", \"NPV\", \"Threshold\"] \n",
    "metrics = [accs, aucs, sens, specs, ppvs, npvs, thresholds]"
   ]
  },
  {
   "cell_type": "code",
   "execution_count": 13,
   "metadata": {},
   "outputs": [
    {
     "name": "stdout",
     "output_type": "stream",
     "text": [
      "Accuracy is 0.81 [0.78, 0.86]\n",
      "AUC is 0.69 [0.60, 0.76]\n",
      "Sensitivity is 0.14 [0.08, 0.21]\n",
      "Specificity is 0.97 [0.95, 0.98]\n",
      "PPV is 0.49 [0.29, 0.71]\n",
      "NPV is 0.83 [0.79, 0.88]\n",
      "Threshold is 0.36 [0.31, 0.42]\n"
     ]
    }
   ],
   "source": [
    "for idx, name in enumerate(names):\n",
    "    lb, ub = gen_ci(np.array(metrics[idx]))\n",
    "    print(\"{0:s} is {1:.2f} [{2:.2f}, {3:.2f}]\".format(name, np.array(metrics[idx]).mean(), lb, ub))"
   ]
  },
  {
   "cell_type": "code",
   "execution_count": 14,
   "metadata": {},
   "outputs": [],
   "source": [
    "pickle.dump(pred_scores, open(\"/data/volume02/CDAI/LR/scores.pkl\", 'wb'))"
   ]
  },
  {
   "cell_type": "code",
   "execution_count": 15,
   "metadata": {},
   "outputs": [],
   "source": [
    "pickle.dump(preds, open(\"/data/volume02/CDAI/LR/preds.pkl\", 'wb'))"
   ]
  },
  {
   "cell_type": "code",
   "execution_count": 16,
   "metadata": {},
   "outputs": [],
   "source": [
    "pickle.dump(labels, open(\"/data/volume02/CDAI/LR/labels.pkl\", 'wb'))"
   ]
  },
  {
   "cell_type": "code",
   "execution_count": 17,
   "metadata": {},
   "outputs": [],
   "source": [
    "feature_importances = {feature:[] for feature in features}\n",
    "for model in fitted_models:\n",
    "    importances = model.coef_.tolist()[0]\n",
    "    for feature, importance in zip(features, importances):\n",
    "        feature_importances[feature].append(importance)"
   ]
  },
  {
   "cell_type": "code",
   "execution_count": 18,
   "metadata": {},
   "outputs": [],
   "source": [
    "final_importances = {feature: np.mean(feature_importances[feature]) for feature in feature_importances.keys()}"
   ]
  },
  {
   "cell_type": "code",
   "execution_count": 19,
   "metadata": {},
   "outputs": [],
   "source": [
    "final_importances = sorted(final_importances.items(), key = lambda x: abs(x[1]), reverse = True)"
   ]
  },
  {
   "cell_type": "code",
   "execution_count": 20,
   "metadata": {},
   "outputs": [
    {
     "data": {
      "text/plain": [
       "[('freecalcium_1st', 0.29569367964303805),\n",
       " ('gender', 0.2950652174982497),\n",
       " ('hemoglobin', -0.2897946081107877),\n",
       " ('albumin', -0.24756058341564877),\n",
       " ('potassium', 0.24326395145237165),\n",
       " ('hematocrit', 0.09998810489563707),\n",
       " ('lactate', 0.09884020250276603),\n",
       " ('bicarbonate', -0.08685611295550856),\n",
       " ('aniongap', -0.06703721967309499),\n",
       " ('creatinine', -0.05808923907201177),\n",
       " ('chloride', -0.04694212148616321),\n",
       " ('sodium', 0.03070861149555069),\n",
       " ('tempc', -0.02649416235269543),\n",
       " ('resprate', 0.02136458386369726),\n",
       " ('wbc', 0.015120241481601834),\n",
       " ('calcium_1st', 0.014824616941000917),\n",
       " ('age', 0.01420508156790299),\n",
       " ('bun', 0.012255004099351234),\n",
       " ('heartrate', 0.010663384768528184),\n",
       " ('bilirubin', 0.009031967986310592),\n",
       " ('inr', 0.007291575308884458),\n",
       " ('pt', -0.005239585846028807),\n",
       " ('ptt', 0.004794764589245734),\n",
       " ('diasbp', -0.0032064446788529926),\n",
       " ('sysbp', -0.0030063037878949234),\n",
       " ('platelet', -0.002208209855427485),\n",
       " ('glucose_lab', -0.001663442486450821),\n",
       " ('spo2', -0.001291059163898377),\n",
       " ('meanbp', -7.948508840166617e-05)]"
      ]
     },
     "execution_count": 20,
     "metadata": {},
     "output_type": "execute_result"
    }
   ],
   "source": [
    "final_importances"
   ]
  },
  {
   "cell_type": "code",
   "execution_count": 21,
   "metadata": {},
   "outputs": [
    {
     "name": "stdout",
     "output_type": "stream",
     "text": [
      "Thresholds: 0.34\n",
      "Accuracy: 81.37%\n",
      "AUROC: 0.71\n",
      "Sensitivity: 18.18%\n",
      "Specificity: 98.08%\n",
      "PPV: 71.43%\n",
      "NPV: 81.93%\n"
     ]
    },
    {
     "data": {
      "image/png": "[encoded data removed]",
      "text/plain": [
       "<Figure size 720x720 with 2 Axes>"
      ]
     },
     "metadata": {
      "needs_background": "light"
     },
     "output_type": "display_data"
    }
   ],
   "source": [
    "evaluate_model(cali_models[-1], fullX_test.values, fully_test.values, model_name=\"Logistic Regression\")"
   ]
  },
  {
   "cell_type": "code",
   "execution_count": null,
   "metadata": {},
   "outputs": [],
   "source": []
  },
  {
   "cell_type": "code",
   "execution_count": null,
   "metadata": {},
   "outputs": [],
   "source": []
  },
  {
   "cell_type": "code",
   "execution_count": null,
   "metadata": {},
   "outputs": [],
   "source": []
  },
  {
   "cell_type": "code",
   "execution_count": null,
   "metadata": {},
   "outputs": [],
   "source": []
  },
  {
   "cell_type": "code",
   "execution_count": null,
   "metadata": {},
   "outputs": [],
   "source": []
  },
  {
   "cell_type": "code",
   "execution_count": null,
   "metadata": {},
   "outputs": [],
   "source": []
  },
  {
   "cell_type": "code",
   "execution_count": 67,
   "metadata": {},
   "outputs": [],
   "source": [
    "with open(\"/data/volume02/CDAI/LR/scores.pkl\", 'rb') as f:\n",
    "    check = pickle.load(f)"
   ]
  },
  {
   "cell_type": "code",
   "execution_count": 69,
   "metadata": {},
   "outputs": [
    {
     "data": {
      "text/plain": [
       "100"
      ]
     },
     "execution_count": 69,
     "metadata": {},
     "output_type": "execute_result"
    }
   ],
   "source": [
    "len(check)"
   ]
  },
  {
   "cell_type": "code",
   "execution_count": null,
   "metadata": {},
   "outputs": [],
   "source": []
  },
  {
   "cell_type": "code",
   "execution_count": null,
   "metadata": {},
   "outputs": [],
   "source": []
  },
  {
   "cell_type": "code",
   "execution_count": null,
   "metadata": {},
   "outputs": [],
   "source": []
  },
  {
   "cell_type": "code",
   "execution_count": null,
   "metadata": {},
   "outputs": [],
   "source": []
  },
  {
   "cell_type": "code",
   "execution_count": 46,
   "metadata": {},
   "outputs": [
    {
     "data": {
      "text/plain": [
       "0.6912170542635659"
      ]
     },
     "execution_count": 46,
     "metadata": {},
     "output_type": "execute_result"
    }
   ],
   "source": [
    "np.array(aucs).mean()"
   ]
  },
  {
   "cell_type": "code",
   "execution_count": 2,
   "metadata": {},
   "outputs": [],
   "source": [
    "logit_model = LogisticRegression(C=1.0, class_weight=None, dual=False, fit_intercept=True,\n",
    "                                 intercept_scaling=1, l1_ratio=None, max_iter=1000,\n",
    "                                 multi_class='auto', n_jobs=16, penalty='l2',\n",
    "                                 random_state=None, solver='lbfgs', tol=0.0001, verbose=0,\n",
    "                                 warm_start=False)"
   ]
  },
  {
   "cell_type": "code",
   "execution_count": null,
   "metadata": {},
   "outputs": [],
   "source": []
  }
 ],
 "metadata": {
  "kernelspec": {
   "display_name": "Python 3",
   "language": "python",
   "name": "python3"
  }
 },
 "nbformat": 4,
 "nbformat_minor": 2
}
